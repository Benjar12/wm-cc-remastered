{
 "cells": [
  {
   "cell_type": "markdown",
   "metadata": {},
   "source": [
    "# Setup\n",
    "Lets start by getting all the boiler plate out of the way"
   ]
  },
  {
   "cell_type": "code",
   "execution_count": 1,
   "metadata": {},
   "outputs": [],
   "source": [
    "import os\n",
    "\n",
    "#del os.environ['PYSPARK_SUBMIT_ARGS']\n",
    "os.environ['PYSPARK_SUBMIT_ARGS'] = '--jars /Users/benjarman/Downloads/RedshiftJDBC41-1.2.8.1005.jar,/Users/benjarman/Development/java/lib/postgresql-42.1.4.jar --master local[2] pyspark-shell'\n",
    "#os.environ['SPARK_HOME'] = '/Users/benjarman/Development/spark/2.2.0'\n",
    "\n",
    "import pyspark\n",
    "from pyspark import SQLContext\n",
    "from pyspark.sql import SparkSession\n",
    "\n",
    "import pandas as pd\n",
    "from pyspark.sql.functions import *\n",
    "from pyspark.sql.types import *\n",
    "\n",
    "data_dir=\"/Users/benjarman/Development/SparkIpython/data\""
   ]
  },
  {
   "cell_type": "code",
   "execution_count": 2,
   "metadata": {},
   "outputs": [],
   "source": [
    "%matplotlib inline\n",
    "\n",
    "import matplotlib\n",
    "import numpy as np\n",
    "import matplotlib.pyplot as plt"
   ]
  },
  {
   "cell_type": "code",
   "execution_count": 3,
   "metadata": {},
   "outputs": [],
   "source": [
    "sql = SparkSession.builder.master(\"local\").appName(\"wm\").getOrCreate()"
   ]
  },
  {
   "cell_type": "markdown",
   "metadata": {},
   "source": [
    "# Reading the data\n",
    "Next we can load all the data into a spark dataframe."
   ]
  },
  {
   "cell_type": "code",
   "execution_count": 4,
   "metadata": {},
   "outputs": [],
   "source": [
    "#TODO turn this cell and the next one into a list comprehension \n",
    "users = sql.read.option(\"inferSchema\", \"true\").option(\"header\", \"true\").csv(data_dir + \"/users.txt.bz2\")\n",
    "events = sql.read.option(\"inferSchema\", \"true\").option(\"header\", \"true\").csv(data_dir + \"/events.txt.bz2\")\n",
    "store_items = sql.read.option(\"inferSchema\", \"true\").option(\"header\", \"true\").csv(data_dir + \"/store_items.txt.bz2\")\n",
    "stores = sql.read.option(\"inferSchema\", \"true\").option(\"header\", \"true\").csv(data_dir + \"/stores.txt.bz2\")\n",
    "promotions = sql.read.option(\"inferSchema\", \"true\").option(\"header\", \"true\").csv(data_dir + \"/promotions.txt.bz2\")"
   ]
  },
  {
   "cell_type": "code",
   "execution_count": 5,
   "metadata": {},
   "outputs": [],
   "source": [
    "data_sets = [\n",
    "    (\"public.users\", users), \n",
    "    (\"public.events\", events), \n",
    "    (\"public.store_items\", store_items), \n",
    "    (\"public.stores\", stores), \n",
    "    (\"public.promotions\",promotions)\n",
    "]"
   ]
  },
  {
   "cell_type": "markdown",
   "metadata": {},
   "source": [
    "# Gonna explore some schema issues.\n",
    "It seems like the load function is having issues with the type of bit"
   ]
  },
  {
   "cell_type": "code",
   "execution_count": 6,
   "metadata": {},
   "outputs": [
    {
     "data": {
      "text/html": [
       "<div>\n",
       "<style>\n",
       "    .dataframe thead tr:only-child th {\n",
       "        text-align: right;\n",
       "    }\n",
       "\n",
       "    .dataframe thead th {\n",
       "        text-align: left;\n",
       "    }\n",
       "\n",
       "    .dataframe tbody tr th {\n",
       "        vertical-align: top;\n",
       "    }\n",
       "</style>\n",
       "<table border=\"1\" class=\"dataframe\">\n",
       "  <thead>\n",
       "    <tr style=\"text-align: right;\">\n",
       "      <th></th>\n",
       "      <th>id</th>\n",
       "      <th>name</th>\n",
       "      <th>email</th>\n",
       "      <th>active</th>\n",
       "      <th>created_date</th>\n",
       "    </tr>\n",
       "  </thead>\n",
       "  <tbody>\n",
       "    <tr>\n",
       "      <th>0</th>\n",
       "      <td>1</td>\n",
       "      <td>Jennifer Miller</td>\n",
       "      <td>nicole10@lowe.biz</td>\n",
       "      <td>True</td>\n",
       "      <td>2017-05-30 02:08:57</td>\n",
       "    </tr>\n",
       "    <tr>\n",
       "      <th>1</th>\n",
       "      <td>2</td>\n",
       "      <td>Justin White</td>\n",
       "      <td>ricejacob@yahoo.com</td>\n",
       "      <td>False</td>\n",
       "      <td>2017-01-31 05:52:37</td>\n",
       "    </tr>\n",
       "    <tr>\n",
       "      <th>2</th>\n",
       "      <td>3</td>\n",
       "      <td>Patrick Henry</td>\n",
       "      <td>douglas20@reynolds.com</td>\n",
       "      <td>False</td>\n",
       "      <td>2017-07-02 17:55:16</td>\n",
       "    </tr>\n",
       "    <tr>\n",
       "      <th>3</th>\n",
       "      <td>4</td>\n",
       "      <td>Robert Orr</td>\n",
       "      <td>benjamin13@spencer-buckley.com</td>\n",
       "      <td>False</td>\n",
       "      <td>2017-08-07 20:03:38</td>\n",
       "    </tr>\n",
       "    <tr>\n",
       "      <th>4</th>\n",
       "      <td>5</td>\n",
       "      <td>Robin Phillips</td>\n",
       "      <td>cassandra33@yahoo.com</td>\n",
       "      <td>True</td>\n",
       "      <td>2017-03-25 18:14:57</td>\n",
       "    </tr>\n",
       "  </tbody>\n",
       "</table>\n",
       "</div>"
      ],
      "text/plain": [
       "   id             name                           email  active  \\\n",
       "0   1  Jennifer Miller               nicole10@lowe.biz    True   \n",
       "1   2     Justin White             ricejacob@yahoo.com   False   \n",
       "2   3    Patrick Henry          douglas20@reynolds.com   False   \n",
       "3   4       Robert Orr  benjamin13@spencer-buckley.com   False   \n",
       "4   5   Robin Phillips           cassandra33@yahoo.com    True   \n",
       "\n",
       "         created_date  \n",
       "0 2017-05-30 02:08:57  \n",
       "1 2017-01-31 05:52:37  \n",
       "2 2017-07-02 17:55:16  \n",
       "3 2017-08-07 20:03:38  \n",
       "4 2017-03-25 18:14:57  "
      ]
     },
     "execution_count": 6,
     "metadata": {},
     "output_type": "execute_result"
    }
   ],
   "source": [
    "users.toPandas().head()"
   ]
  },
  {
   "cell_type": "code",
   "execution_count": 7,
   "metadata": {},
   "outputs": [
    {
     "data": {
      "text/plain": [
       "StructType(List(StructField(id,IntegerType,true),StructField(name,StringType,true),StructField(email,StringType,true),StructField(active,BooleanType,true),StructField(created_date,TimestampType,true)))"
      ]
     },
     "execution_count": 7,
     "metadata": {},
     "output_type": "execute_result"
    }
   ],
   "source": [
    "users.schema"
   ]
  },
  {
   "cell_type": "code",
   "execution_count": 8,
   "metadata": {},
   "outputs": [],
   "source": [
    "#Doing a quick test to see if this works\n",
    "data_sets[0] = (\"users\", users.withColumn(\"active\", expr('cast(active as int)')))"
   ]
  },
  {
   "cell_type": "markdown",
   "metadata": {},
   "source": [
    "# Next lets load the data into redshift"
   ]
  },
  {
   "cell_type": "code",
   "execution_count": 9,
   "metadata": {},
   "outputs": [],
   "source": [
    "#Commented out because I want to be able to click run all cells\n",
    "#and don't want to have it stop because of the exception, but\n",
    "#i'm not done here.\n",
    "#mode = \"overwrite\"\n",
    "#url = \"jdbc:redshift//sample-data-cluster.cuzjjz7ia71a.us-west-2.redshift.amazonaws.com:5439/test?Profile=codetest\"\n",
    "#properties = {\n",
    "#    \"user\": \"master\",\n",
    "#    \"password\": \"Fy7W4C^JwAWe&lKb\",\n",
    "#    \"driver\": \"com.amazon.redshift.jdbc.Driver\"\n",
    "#}\n",
    "\n",
    "#for dat in data_sets:\n",
    "#    dat[1].write.jdbc(url=url, table=dat[0], mode=mode, properties=properties)"
   ]
  },
  {
   "cell_type": "markdown",
   "metadata": {},
   "source": [
    "# Alright, well I can't get the data to load to this redshift cluster for the life of me. Lets see what we can do without it.\n",
    "\n",
    "I'm gonna start by exploring the data sets so I know what I have to work with"
   ]
  },
  {
   "cell_type": "code",
   "execution_count": 10,
   "metadata": {},
   "outputs": [
    {
     "data": {
      "text/html": [
       "<div>\n",
       "<style>\n",
       "    .dataframe thead tr:only-child th {\n",
       "        text-align: right;\n",
       "    }\n",
       "\n",
       "    .dataframe thead th {\n",
       "        text-align: left;\n",
       "    }\n",
       "\n",
       "    .dataframe tbody tr th {\n",
       "        vertical-align: top;\n",
       "    }\n",
       "</style>\n",
       "<table border=\"1\" class=\"dataframe\">\n",
       "  <thead>\n",
       "    <tr style=\"text-align: right;\">\n",
       "      <th></th>\n",
       "      <th>id</th>\n",
       "      <th>event_date</th>\n",
       "      <th>event_type</th>\n",
       "      <th>geography_id</th>\n",
       "      <th>store_id</th>\n",
       "      <th>store_item_id</th>\n",
       "      <th>promotion_id</th>\n",
       "      <th>user_id</th>\n",
       "    </tr>\n",
       "  </thead>\n",
       "  <tbody>\n",
       "    <tr>\n",
       "      <th>0</th>\n",
       "      <td>1</td>\n",
       "      <td>2017-05-03 10:04:27</td>\n",
       "      <td>store - viewed details page</td>\n",
       "      <td>6</td>\n",
       "      <td>32586.0</td>\n",
       "      <td>None</td>\n",
       "      <td>NaN</td>\n",
       "      <td>NaN</td>\n",
       "    </tr>\n",
       "    <tr>\n",
       "      <th>1</th>\n",
       "      <td>2</td>\n",
       "      <td>2017-08-08 02:57:18</td>\n",
       "      <td>user - viewed promotion admin page</td>\n",
       "      <td>8</td>\n",
       "      <td>NaN</td>\n",
       "      <td>None</td>\n",
       "      <td>NaN</td>\n",
       "      <td>59117.0</td>\n",
       "    </tr>\n",
       "    <tr>\n",
       "      <th>2</th>\n",
       "      <td>3</td>\n",
       "      <td>2017-08-26 06:46:45</td>\n",
       "      <td>user - viewed store item admin page</td>\n",
       "      <td>2</td>\n",
       "      <td>NaN</td>\n",
       "      <td>None</td>\n",
       "      <td>NaN</td>\n",
       "      <td>48243.0</td>\n",
       "    </tr>\n",
       "    <tr>\n",
       "      <th>3</th>\n",
       "      <td>4</td>\n",
       "      <td>2017-05-17 05:25:06</td>\n",
       "      <td>user - viewed vendor admin page</td>\n",
       "      <td>6</td>\n",
       "      <td>NaN</td>\n",
       "      <td>None</td>\n",
       "      <td>NaN</td>\n",
       "      <td>345.0</td>\n",
       "    </tr>\n",
       "    <tr>\n",
       "      <th>4</th>\n",
       "      <td>5</td>\n",
       "      <td>2017-07-05 15:26:13</td>\n",
       "      <td>search - search term clicked</td>\n",
       "      <td>6</td>\n",
       "      <td>NaN</td>\n",
       "      <td>None</td>\n",
       "      <td>NaN</td>\n",
       "      <td>NaN</td>\n",
       "    </tr>\n",
       "  </tbody>\n",
       "</table>\n",
       "</div>"
      ],
      "text/plain": [
       "   id          event_date                           event_type  geography_id  \\\n",
       "0   1 2017-05-03 10:04:27          store - viewed details page             6   \n",
       "1   2 2017-08-08 02:57:18   user - viewed promotion admin page             8   \n",
       "2   3 2017-08-26 06:46:45  user - viewed store item admin page             2   \n",
       "3   4 2017-05-17 05:25:06      user - viewed vendor admin page             6   \n",
       "4   5 2017-07-05 15:26:13         search - search term clicked             6   \n",
       "\n",
       "   store_id store_item_id  promotion_id  user_id  \n",
       "0   32586.0          None           NaN      NaN  \n",
       "1       NaN          None           NaN  59117.0  \n",
       "2       NaN          None           NaN  48243.0  \n",
       "3       NaN          None           NaN    345.0  \n",
       "4       NaN          None           NaN      NaN  "
      ]
     },
     "execution_count": 10,
     "metadata": {},
     "output_type": "execute_result"
    }
   ],
   "source": [
    "events.toPandas().head()"
   ]
  },
  {
   "cell_type": "code",
   "execution_count": 11,
   "metadata": {},
   "outputs": [
    {
     "data": {
      "text/html": [
       "<div>\n",
       "<style>\n",
       "    .dataframe thead tr:only-child th {\n",
       "        text-align: right;\n",
       "    }\n",
       "\n",
       "    .dataframe thead th {\n",
       "        text-align: left;\n",
       "    }\n",
       "\n",
       "    .dataframe tbody tr th {\n",
       "        vertical-align: top;\n",
       "    }\n",
       "</style>\n",
       "<table border=\"1\" class=\"dataframe\">\n",
       "  <thead>\n",
       "    <tr style=\"text-align: right;\">\n",
       "      <th></th>\n",
       "      <th>id</th>\n",
       "      <th>name</th>\n",
       "      <th>created_date</th>\n",
       "      <th>store_level</th>\n",
       "    </tr>\n",
       "  </thead>\n",
       "  <tbody>\n",
       "    <tr>\n",
       "      <th>0</th>\n",
       "      <td>1</td>\n",
       "      <td>Ipsa quisquam eaque vel enim.</td>\n",
       "      <td>2017-02-22 10:01:27</td>\n",
       "      <td>4</td>\n",
       "    </tr>\n",
       "    <tr>\n",
       "      <th>1</th>\n",
       "      <td>2</td>\n",
       "      <td>Velit ducimus numquam accusamus facilis numquam.</td>\n",
       "      <td>2017-07-13 18:36:13</td>\n",
       "      <td>5</td>\n",
       "    </tr>\n",
       "    <tr>\n",
       "      <th>2</th>\n",
       "      <td>3</td>\n",
       "      <td>Aspernatur corporis voluptate itaque perferend...</td>\n",
       "      <td>2017-03-11 17:48:38</td>\n",
       "      <td>0</td>\n",
       "    </tr>\n",
       "    <tr>\n",
       "      <th>3</th>\n",
       "      <td>4</td>\n",
       "      <td>Quam hic vitae iure nemo.</td>\n",
       "      <td>2017-06-22 13:43:49</td>\n",
       "      <td>5</td>\n",
       "    </tr>\n",
       "    <tr>\n",
       "      <th>4</th>\n",
       "      <td>5</td>\n",
       "      <td>Vel velit ipsa possimus maiores.</td>\n",
       "      <td>2017-04-11 12:11:59</td>\n",
       "      <td>4</td>\n",
       "    </tr>\n",
       "  </tbody>\n",
       "</table>\n",
       "</div>"
      ],
      "text/plain": [
       "   id                                               name        created_date  \\\n",
       "0   1                      Ipsa quisquam eaque vel enim. 2017-02-22 10:01:27   \n",
       "1   2   Velit ducimus numquam accusamus facilis numquam. 2017-07-13 18:36:13   \n",
       "2   3  Aspernatur corporis voluptate itaque perferend... 2017-03-11 17:48:38   \n",
       "3   4                          Quam hic vitae iure nemo. 2017-06-22 13:43:49   \n",
       "4   5                   Vel velit ipsa possimus maiores. 2017-04-11 12:11:59   \n",
       "\n",
       "   store_level  \n",
       "0            4  \n",
       "1            5  \n",
       "2            0  \n",
       "3            5  \n",
       "4            4  "
      ]
     },
     "execution_count": 11,
     "metadata": {},
     "output_type": "execute_result"
    }
   ],
   "source": [
    "stores.toPandas().head()"
   ]
  },
  {
   "cell_type": "code",
   "execution_count": 12,
   "metadata": {},
   "outputs": [
    {
     "data": {
      "text/html": [
       "<div>\n",
       "<style>\n",
       "    .dataframe thead tr:only-child th {\n",
       "        text-align: right;\n",
       "    }\n",
       "\n",
       "    .dataframe thead th {\n",
       "        text-align: left;\n",
       "    }\n",
       "\n",
       "    .dataframe tbody tr th {\n",
       "        vertical-align: top;\n",
       "    }\n",
       "</style>\n",
       "<table border=\"1\" class=\"dataframe\">\n",
       "  <thead>\n",
       "    <tr style=\"text-align: right;\">\n",
       "      <th></th>\n",
       "      <th>id</th>\n",
       "      <th>name</th>\n",
       "      <th>store_id</th>\n",
       "      <th>active</th>\n",
       "      <th>created_date</th>\n",
       "    </tr>\n",
       "  </thead>\n",
       "  <tbody>\n",
       "    <tr>\n",
       "      <th>0</th>\n",
       "      <td>1</td>\n",
       "      <td>Veniam eligendi dignissimos sint dolorem quam ...</td>\n",
       "      <td>49837</td>\n",
       "      <td>False</td>\n",
       "      <td>2017-02-24 04:53:30</td>\n",
       "    </tr>\n",
       "    <tr>\n",
       "      <th>1</th>\n",
       "      <td>2</td>\n",
       "      <td>Qui cupiditate optio esse nisi explicabo ducimus.</td>\n",
       "      <td>9551</td>\n",
       "      <td>False</td>\n",
       "      <td>2017-08-04 13:15:05</td>\n",
       "    </tr>\n",
       "    <tr>\n",
       "      <th>2</th>\n",
       "      <td>3</td>\n",
       "      <td>Nisi reprehenderit velit veritatis ad aut ipsa...</td>\n",
       "      <td>64585</td>\n",
       "      <td>True</td>\n",
       "      <td>2017-01-10 18:17:47</td>\n",
       "    </tr>\n",
       "    <tr>\n",
       "      <th>3</th>\n",
       "      <td>4</td>\n",
       "      <td>Quia nostrum illo sunt totam excepturi.</td>\n",
       "      <td>53008</td>\n",
       "      <td>True</td>\n",
       "      <td>2017-01-19 05:52:12</td>\n",
       "    </tr>\n",
       "    <tr>\n",
       "      <th>4</th>\n",
       "      <td>5</td>\n",
       "      <td>Nulla facilis nam neque.</td>\n",
       "      <td>18850</td>\n",
       "      <td>True</td>\n",
       "      <td>2017-05-29 01:30:26</td>\n",
       "    </tr>\n",
       "  </tbody>\n",
       "</table>\n",
       "</div>"
      ],
      "text/plain": [
       "   id                                               name  store_id  active  \\\n",
       "0   1  Veniam eligendi dignissimos sint dolorem quam ...     49837   False   \n",
       "1   2  Qui cupiditate optio esse nisi explicabo ducimus.      9551   False   \n",
       "2   3  Nisi reprehenderit velit veritatis ad aut ipsa...     64585    True   \n",
       "3   4            Quia nostrum illo sunt totam excepturi.     53008    True   \n",
       "4   5                           Nulla facilis nam neque.     18850    True   \n",
       "\n",
       "         created_date  \n",
       "0 2017-02-24 04:53:30  \n",
       "1 2017-08-04 13:15:05  \n",
       "2 2017-01-10 18:17:47  \n",
       "3 2017-01-19 05:52:12  \n",
       "4 2017-05-29 01:30:26  "
      ]
     },
     "execution_count": 12,
     "metadata": {},
     "output_type": "execute_result"
    }
   ],
   "source": [
    "store_items.toPandas().head()"
   ]
  },
  {
   "cell_type": "code",
   "execution_count": 13,
   "metadata": {},
   "outputs": [
    {
     "data": {
      "text/html": [
       "<div>\n",
       "<style>\n",
       "    .dataframe thead tr:only-child th {\n",
       "        text-align: right;\n",
       "    }\n",
       "\n",
       "    .dataframe thead th {\n",
       "        text-align: left;\n",
       "    }\n",
       "\n",
       "    .dataframe tbody tr th {\n",
       "        vertical-align: top;\n",
       "    }\n",
       "</style>\n",
       "<table border=\"1\" class=\"dataframe\">\n",
       "  <thead>\n",
       "    <tr style=\"text-align: right;\">\n",
       "      <th></th>\n",
       "      <th>id</th>\n",
       "      <th>name</th>\n",
       "      <th>email</th>\n",
       "      <th>active</th>\n",
       "      <th>created_date</th>\n",
       "    </tr>\n",
       "  </thead>\n",
       "  <tbody>\n",
       "    <tr>\n",
       "      <th>0</th>\n",
       "      <td>1</td>\n",
       "      <td>Jennifer Miller</td>\n",
       "      <td>nicole10@lowe.biz</td>\n",
       "      <td>True</td>\n",
       "      <td>2017-05-30 02:08:57</td>\n",
       "    </tr>\n",
       "    <tr>\n",
       "      <th>1</th>\n",
       "      <td>2</td>\n",
       "      <td>Justin White</td>\n",
       "      <td>ricejacob@yahoo.com</td>\n",
       "      <td>False</td>\n",
       "      <td>2017-01-31 05:52:37</td>\n",
       "    </tr>\n",
       "    <tr>\n",
       "      <th>2</th>\n",
       "      <td>3</td>\n",
       "      <td>Patrick Henry</td>\n",
       "      <td>douglas20@reynolds.com</td>\n",
       "      <td>False</td>\n",
       "      <td>2017-07-02 17:55:16</td>\n",
       "    </tr>\n",
       "    <tr>\n",
       "      <th>3</th>\n",
       "      <td>4</td>\n",
       "      <td>Robert Orr</td>\n",
       "      <td>benjamin13@spencer-buckley.com</td>\n",
       "      <td>False</td>\n",
       "      <td>2017-08-07 20:03:38</td>\n",
       "    </tr>\n",
       "    <tr>\n",
       "      <th>4</th>\n",
       "      <td>5</td>\n",
       "      <td>Robin Phillips</td>\n",
       "      <td>cassandra33@yahoo.com</td>\n",
       "      <td>True</td>\n",
       "      <td>2017-03-25 18:14:57</td>\n",
       "    </tr>\n",
       "  </tbody>\n",
       "</table>\n",
       "</div>"
      ],
      "text/plain": [
       "   id             name                           email  active  \\\n",
       "0   1  Jennifer Miller               nicole10@lowe.biz    True   \n",
       "1   2     Justin White             ricejacob@yahoo.com   False   \n",
       "2   3    Patrick Henry          douglas20@reynolds.com   False   \n",
       "3   4       Robert Orr  benjamin13@spencer-buckley.com   False   \n",
       "4   5   Robin Phillips           cassandra33@yahoo.com    True   \n",
       "\n",
       "         created_date  \n",
       "0 2017-05-30 02:08:57  \n",
       "1 2017-01-31 05:52:37  \n",
       "2 2017-07-02 17:55:16  \n",
       "3 2017-08-07 20:03:38  \n",
       "4 2017-03-25 18:14:57  "
      ]
     },
     "execution_count": 13,
     "metadata": {},
     "output_type": "execute_result"
    }
   ],
   "source": [
    "users.toPandas().head()"
   ]
  },
  {
   "cell_type": "markdown",
   "metadata": {},
   "source": [
    "# Well I can't remember the exact challenge but lets explore the data and then come up with our own "
   ]
  },
  {
   "cell_type": "code",
   "execution_count": 14,
   "metadata": {},
   "outputs": [
    {
     "data": {
      "text/plain": [
       "<matplotlib.axes._subplots.AxesSubplot at 0x116ac8e10>"
      ]
     },
     "execution_count": 14,
     "metadata": {},
     "output_type": "execute_result"
    },
    {
     "data": {
      "image/png": "[encoded data removed]",
      "text/plain": [
       "<matplotlib.figure.Figure at 0x10dc65850>"
      ]
     },
     "metadata": {},
     "output_type": "display_data"
    }
   ],
   "source": [
    "users_pd = users.toPandas()\n",
    "pd.value_counts(users_pd['active'].values, sort=True).plot(kind=\"bar\")"
   ]
  },
  {
   "cell_type": "code",
   "execution_count": 15,
   "metadata": {},
   "outputs": [
    {
     "data": {
      "text/plain": [
       "<matplotlib.axes._subplots.AxesSubplot at 0x118f0ab50>"
      ]
     },
     "execution_count": 15,
     "metadata": {},
     "output_type": "execute_result"
    },
    {
     "data": {
      "image/png": "[encoded data removed]",
      "text/plain": [
       "<matplotlib.figure.Figure at 0x114463b10>"
      ]
     },
     "metadata": {},
     "output_type": "display_data"
    }
   ],
   "source": [
    "stores_pd = stores.toPandas()\n",
    "pd.value_counts(stores_pd['store_level'].values, sort=True).plot(kind=\"bar\")"
   ]
  },
  {
   "cell_type": "code",
   "execution_count": 16,
   "metadata": {},
   "outputs": [
    {
     "data": {
      "text/plain": [
       "<matplotlib.axes._subplots.AxesSubplot at 0x122134d90>"
      ]
     },
     "execution_count": 16,
     "metadata": {},
     "output_type": "execute_result"
    },
    {
     "data": {
      "image/png": "[encoded data removed]",
      "text/plain": [
       "<matplotlib.figure.Figure at 0x10f4f8fd0>"
      ]
     },
     "metadata": {},
     "output_type": "display_data"
    }
   ],
   "source": [
    "events_pd = events.toPandas()\n",
    "events_pd['event_type'].value_counts().plot.bar()"
   ]
  },
  {
   "cell_type": "code",
   "execution_count": 17,
   "metadata": {},
   "outputs": [
    {
     "data": {
      "text/plain": [
       "<matplotlib.axes._subplots.AxesSubplot at 0x113467d90>"
      ]
     },
     "execution_count": 17,
     "metadata": {},
     "output_type": "execute_result"
    },
    {
     "data": {
      "image/png": "[encoded data removed]",
      "text/plain": [
       "<matplotlib.figure.Figure at 0x111030210>"
      ]
     },
     "metadata": {},
     "output_type": "display_data"
    }
   ],
   "source": [
    "events_pd['just_date'] = events_pd['event_date'].dt.date\n",
    "events_pd['just_date'].value_counts().head(10).plot.bar()"
   ]
  },
  {
   "cell_type": "markdown",
   "metadata": {},
   "source": [
    "# Next Steps\n",
    "Alright, this data is clearly generated, as stated and way to consistent to do anything fun with. That said this was not a data science challenge. Lets start by finding the 10 users with the most events. We will switch back to spark pretending that this is terabytes of data and the use pandas to display and plot it."
   ]
  },
  {
   "cell_type": "code",
   "execution_count": 18,
   "metadata": {},
   "outputs": [
    {
     "data": {
      "text/plain": [
       "StructType(List(StructField(id,IntegerType,true),StructField(event_date,TimestampType,true),StructField(event_type,StringType,true),StructField(geography_id,IntegerType,true),StructField(store_id,IntegerType,true),StructField(store_item_id,StringType,true),StructField(promotion_id,IntegerType,true),StructField(user_id,IntegerType,true)))"
      ]
     },
     "execution_count": 18,
     "metadata": {},
     "output_type": "execute_result"
    }
   ],
   "source": [
    "# So I need to do some exploration of the events table. For what ever reason user_id is a decimal.\n",
    "events.schema"
   ]
  },
  {
   "cell_type": "markdown",
   "metadata": {},
   "source": [
    "k so it looks like pandas is doing that when we convert the spark sql df to and pandas df. We should be good to move forward"
   ]
  },
  {
   "cell_type": "code",
   "execution_count": 19,
   "metadata": {},
   "outputs": [
    {
     "data": {
      "text/plain": [
       "StructType(List(StructField(user_id,IntegerType,true),StructField(count,LongType,false)))"
      ]
     },
     "execution_count": 19,
     "metadata": {},
     "output_type": "execute_result"
    }
   ],
   "source": [
    "grouped = events.groupBy(\"user_id\").agg( count(\"user_id\") )\n",
    "grouped = grouped.withColumnRenamed(\"count(user_id)\", \"count\")\n",
    "grouped.schema"
   ]
  },
  {
   "cell_type": "code",
   "execution_count": 20,
   "metadata": {},
   "outputs": [
    {
     "name": "stdout",
     "output_type": "stream",
     "text": [
      "+-------+-----+\n",
      "|user_id|count|\n",
      "+-------+-----+\n",
      "|  29131|    8|\n",
      "|  68290|    7|\n",
      "|  21323|    7|\n",
      "|  53401|    7|\n",
      "|  37668|    7|\n",
      "|  55583|    7|\n",
      "|  20769|    7|\n",
      "|  51567|    7|\n",
      "|  49890|    6|\n",
      "|  53209|    6|\n",
      "|   9763|    6|\n",
      "|  64317|    6|\n",
      "|  69879|    6|\n",
      "|  62330|    6|\n",
      "|   1644|    6|\n",
      "|  65452|    6|\n",
      "|   6572|    6|\n",
      "|  62839|    6|\n",
      "|  53488|    6|\n",
      "|  41393|    6|\n",
      "+-------+-----+\n",
      "only showing top 20 rows\n",
      "\n"
     ]
    }
   ],
   "source": [
    "sorted = grouped.sort( grouped['count'].desc() )\n",
    "sorted.show()"
   ]
  },
  {
   "cell_type": "code",
   "execution_count": 21,
   "metadata": {},
   "outputs": [
    {
     "data": {
      "text/plain": [
       "array([[<matplotlib.axes._subplots.AxesSubplot object at 0x112567910>]], dtype=object)"
      ]
     },
     "execution_count": 21,
     "metadata": {},
     "output_type": "execute_result"
    },
    {
     "data": {
      "image/png": "[encoded data removed]",
      "text/plain": [
       "<matplotlib.figure.Figure at 0x10e4c2590>"
      ]
     },
     "metadata": {},
     "output_type": "display_data"
    }
   ],
   "source": [
    "# So the fact that the top user is 8 events tells me that when we break it down by day its gonna be very sad.\n",
    "# lets see what the distribution looks likes.\n",
    "sorted.select('count').toPandas().hist(bins=15)"
   ]
  },
  {
   "cell_type": "code",
   "execution_count": 22,
   "metadata": {},
   "outputs": [],
   "source": [
    "# So this is unrelated but I'm curious what the distribution is like for geography_id\n",
    "grouped_ct = events.groupBy(\"geography_id\").agg( count(\"geography_id\") )\n",
    "grouped_ct = grouped_ct.withColumnRenamed( \"count(geography_id)\", \"count\" )\n",
    "sorted_ct = grouped_ct.sort( grouped_ct['count'].desc() )"
   ]
  },
  {
   "cell_type": "code",
   "execution_count": 23,
   "metadata": {},
   "outputs": [
    {
     "data": {
      "text/plain": [
       "array([[<matplotlib.axes._subplots.AxesSubplot object at 0x116612390>]], dtype=object)"
      ]
     },
     "execution_count": 23,
     "metadata": {},
     "output_type": "execute_result"
    },
    {
     "data": {
      "image/png": "[encoded data removed]",
      "text/plain": [
       "<matplotlib.figure.Figure at 0x116466610>"
      ]
     },
     "metadata": {},
     "output_type": "display_data"
    }
   ],
   "source": [
    "sorted_ct.select('count').toPandas().hist(bins=15)"
   ]
  },
  {
   "cell_type": "markdown",
   "metadata": {},
   "source": [
    "^ This is interesting. I think I would def.. make geography_id our distribution key. That said I'm use to sharding on region, our distro key would heavely depend on data access paths."
   ]
  },
  {
   "cell_type": "markdown",
   "metadata": {},
   "source": [
    "# Now lets find the top users by day"
   ]
  },
  {
   "cell_type": "code",
   "execution_count": 24,
   "metadata": {},
   "outputs": [],
   "source": [
    "#Before we do any aggregations we need to get rid of the timestamps\n",
    "events = events.withColumn('event_date', events['event_date'].cast('date'))"
   ]
  },
  {
   "cell_type": "code",
   "execution_count": 25,
   "metadata": {},
   "outputs": [
    {
     "data": {
      "text/html": [
       "<div>\n",
       "<style>\n",
       "    .dataframe thead tr:only-child th {\n",
       "        text-align: right;\n",
       "    }\n",
       "\n",
       "    .dataframe thead th {\n",
       "        text-align: left;\n",
       "    }\n",
       "\n",
       "    .dataframe tbody tr th {\n",
       "        vertical-align: top;\n",
       "    }\n",
       "</style>\n",
       "<table border=\"1\" class=\"dataframe\">\n",
       "  <thead>\n",
       "    <tr style=\"text-align: right;\">\n",
       "      <th></th>\n",
       "      <th>id</th>\n",
       "      <th>event_date</th>\n",
       "      <th>event_type</th>\n",
       "      <th>geography_id</th>\n",
       "      <th>store_id</th>\n",
       "      <th>store_item_id</th>\n",
       "      <th>promotion_id</th>\n",
       "      <th>user_id</th>\n",
       "    </tr>\n",
       "  </thead>\n",
       "  <tbody>\n",
       "    <tr>\n",
       "      <th>0</th>\n",
       "      <td>1</td>\n",
       "      <td>2017-05-03</td>\n",
       "      <td>store - viewed details page</td>\n",
       "      <td>6</td>\n",
       "      <td>32586.0</td>\n",
       "      <td>None</td>\n",
       "      <td>NaN</td>\n",
       "      <td>NaN</td>\n",
       "    </tr>\n",
       "    <tr>\n",
       "      <th>1</th>\n",
       "      <td>2</td>\n",
       "      <td>2017-08-08</td>\n",
       "      <td>user - viewed promotion admin page</td>\n",
       "      <td>8</td>\n",
       "      <td>NaN</td>\n",
       "      <td>None</td>\n",
       "      <td>NaN</td>\n",
       "      <td>59117.0</td>\n",
       "    </tr>\n",
       "    <tr>\n",
       "      <th>2</th>\n",
       "      <td>3</td>\n",
       "      <td>2017-08-26</td>\n",
       "      <td>user - viewed store item admin page</td>\n",
       "      <td>2</td>\n",
       "      <td>NaN</td>\n",
       "      <td>None</td>\n",
       "      <td>NaN</td>\n",
       "      <td>48243.0</td>\n",
       "    </tr>\n",
       "    <tr>\n",
       "      <th>3</th>\n",
       "      <td>4</td>\n",
       "      <td>2017-05-17</td>\n",
       "      <td>user - viewed vendor admin page</td>\n",
       "      <td>6</td>\n",
       "      <td>NaN</td>\n",
       "      <td>None</td>\n",
       "      <td>NaN</td>\n",
       "      <td>345.0</td>\n",
       "    </tr>\n",
       "    <tr>\n",
       "      <th>4</th>\n",
       "      <td>5</td>\n",
       "      <td>2017-07-05</td>\n",
       "      <td>search - search term clicked</td>\n",
       "      <td>6</td>\n",
       "      <td>NaN</td>\n",
       "      <td>None</td>\n",
       "      <td>NaN</td>\n",
       "      <td>NaN</td>\n",
       "    </tr>\n",
       "  </tbody>\n",
       "</table>\n",
       "</div>"
      ],
      "text/plain": [
       "   id  event_date                           event_type  geography_id  \\\n",
       "0   1  2017-05-03          store - viewed details page             6   \n",
       "1   2  2017-08-08   user - viewed promotion admin page             8   \n",
       "2   3  2017-08-26  user - viewed store item admin page             2   \n",
       "3   4  2017-05-17      user - viewed vendor admin page             6   \n",
       "4   5  2017-07-05         search - search term clicked             6   \n",
       "\n",
       "   store_id store_item_id  promotion_id  user_id  \n",
       "0   32586.0          None           NaN      NaN  \n",
       "1       NaN          None           NaN  59117.0  \n",
       "2       NaN          None           NaN  48243.0  \n",
       "3       NaN          None           NaN    345.0  \n",
       "4       NaN          None           NaN      NaN  "
      ]
     },
     "execution_count": 25,
     "metadata": {},
     "output_type": "execute_result"
    }
   ],
   "source": [
    "events.toPandas().head()"
   ]
  },
  {
   "cell_type": "code",
   "execution_count": 26,
   "metadata": {},
   "outputs": [],
   "source": [
    "foo = events.groupBy([\"user_id\", \"event_date\"]).count()#.agg( count(\"user_id\"), count(\"event_date\") )"
   ]
  },
  {
   "cell_type": "code",
   "execution_count": 27,
   "metadata": {},
   "outputs": [
    {
     "name": "stdout",
     "output_type": "stream",
     "text": [
      "+-------+----------+-----+\n",
      "|user_id|event_date|count|\n",
      "+-------+----------+-----+\n",
      "|   null|2017-03-05|  726|\n",
      "|   null|2017-01-21|  714|\n",
      "|   null|2017-08-24|  711|\n",
      "|   null|2017-06-23|  709|\n",
      "|   null|2017-02-14|  707|\n",
      "|   null|2017-03-11|  701|\n",
      "|   null|2017-06-11|  700|\n",
      "|   null|2017-02-23|  700|\n",
      "|   null|2017-03-22|  698|\n",
      "|   null|2017-06-10|  697|\n",
      "|   null|2017-07-24|  697|\n",
      "|   null|2017-08-14|  697|\n",
      "|   null|2017-06-26|  696|\n",
      "|   null|2017-05-08|  695|\n",
      "|   null|2017-05-03|  695|\n",
      "|   null|2017-07-13|  695|\n",
      "|   null|2017-05-28|  694|\n",
      "|   null|2017-03-13|  694|\n",
      "|   null|2017-02-22|  693|\n",
      "|   null|2017-05-29|  693|\n",
      "+-------+----------+-----+\n",
      "only showing top 20 rows\n",
      "\n"
     ]
    }
   ],
   "source": [
    "foo.sort( foo['count'].desc() ).show()"
   ]
  },
  {
   "cell_type": "code",
   "execution_count": 28,
   "metadata": {},
   "outputs": [
    {
     "name": "stdout",
     "output_type": "stream",
     "text": [
      "+---+----------+--------------------+------------+--------+-------------+------------+-------+\n",
      "| id|event_date|          event_type|geography_id|store_id|store_item_id|promotion_id|user_id|\n",
      "+---+----------+--------------------+------------+--------+-------------+------------+-------+\n",
      "|  1|2017-05-03|store - viewed de...|           6|   32586|         null|        null|   null|\n",
      "|  5|2017-07-05|search - search t...|           6|    null|         null|        null|   null|\n",
      "|  6|2017-04-29|promotion - left ...|           6|    5595|         null|      151316|   null|\n",
      "|  8|2017-06-08|promotion - viewe...|           8|   36547|         null|      177502|   null|\n",
      "|  9|2017-03-05|promotion - click...|           1|   64494|         null|      184930|   null|\n",
      "| 10|2017-01-28|store - viewed ho...|           1|   63733|         null|        null|   null|\n",
      "| 11|2017-07-13|promotion - click...|           7|   60964|         null|      138892|   null|\n",
      "| 12|2017-04-02|store item - view...|           1|   59871|         null|        null|   null|\n",
      "| 13|2017-07-09|store - viewed de...|          10|   51990|         null|        null|   null|\n",
      "| 17|2017-04-13|search - search t...|           4|    null|         null|        null|   null|\n",
      "| 18|2017-02-07|promotion - left ...|           2|   22782|         null|      136374|   null|\n",
      "| 20|2017-04-15|promotion - viewe...|           3|   54041|         null|       95767|   null|\n",
      "| 21|2017-08-21|promotion - click...|           9|   12031|         null|       20441|   null|\n",
      "| 22|2017-03-24|store - viewed ho...|           8|   43891|         null|        null|   null|\n",
      "| 23|2017-08-07|promotion - click...|           9|    1359|         null|      132669|   null|\n",
      "| 24|2017-08-07|store item - view...|           6|   70326|         null|        null|   null|\n",
      "| 25|2017-01-11|store - viewed de...|           9|   19228|         null|        null|   null|\n",
      "| 29|2017-05-11|search - search t...|           6|    null|         null|        null|   null|\n",
      "| 30|2017-05-27|promotion - left ...|           6|   31227|         null|      111715|   null|\n",
      "| 32|2017-06-09|promotion - viewe...|           3|   58345|         null|      154891|   null|\n",
      "+---+----------+--------------------+------------+--------+-------------+------------+-------+\n",
      "only showing top 20 rows\n",
      "\n"
     ]
    }
   ],
   "source": [
    "# ^ It seems weird that there are so many null user_id's. \n",
    "# This does not seem right, lets look into it then filter them out.\n",
    "events.where( col(\"user_id\").isNull() ).show()"
   ]
  },
  {
   "cell_type": "code",
   "execution_count": 29,
   "metadata": {},
   "outputs": [],
   "source": [
    "filtered_events = events.where( col(\"user_id\").isNotNull() )\n",
    "events_grouped_no_nulls = filtered_events.groupBy([\"user_id\", \"event_date\"]).count()"
   ]
  },
  {
   "cell_type": "code",
   "execution_count": 30,
   "metadata": {},
   "outputs": [],
   "source": [
    "event_sdf = events_grouped_no_nulls.sort( events_grouped_no_nulls['count'].desc() )"
   ]
  },
  {
   "cell_type": "code",
   "execution_count": 31,
   "metadata": {},
   "outputs": [
    {
     "data": {
      "text/html": [
       "<div>\n",
       "<style>\n",
       "    .dataframe thead tr:only-child th {\n",
       "        text-align: right;\n",
       "    }\n",
       "\n",
       "    .dataframe thead th {\n",
       "        text-align: left;\n",
       "    }\n",
       "\n",
       "    .dataframe tbody tr th {\n",
       "        vertical-align: top;\n",
       "    }\n",
       "</style>\n",
       "<table border=\"1\" class=\"dataframe\">\n",
       "  <thead>\n",
       "    <tr style=\"text-align: right;\">\n",
       "      <th></th>\n",
       "      <th>user_id</th>\n",
       "      <th>event_date</th>\n",
       "      <th>count</th>\n",
       "    </tr>\n",
       "  </thead>\n",
       "  <tbody>\n",
       "    <tr>\n",
       "      <th>0</th>\n",
       "      <td>40907</td>\n",
       "      <td>2017-03-31</td>\n",
       "      <td>2</td>\n",
       "    </tr>\n",
       "    <tr>\n",
       "      <th>1</th>\n",
       "      <td>19101</td>\n",
       "      <td>2017-07-26</td>\n",
       "      <td>2</td>\n",
       "    </tr>\n",
       "    <tr>\n",
       "      <th>2</th>\n",
       "      <td>18500</td>\n",
       "      <td>2017-03-04</td>\n",
       "      <td>2</td>\n",
       "    </tr>\n",
       "    <tr>\n",
       "      <th>3</th>\n",
       "      <td>53456</td>\n",
       "      <td>2017-02-04</td>\n",
       "      <td>2</td>\n",
       "    </tr>\n",
       "    <tr>\n",
       "      <th>4</th>\n",
       "      <td>65674</td>\n",
       "      <td>2017-04-23</td>\n",
       "      <td>2</td>\n",
       "    </tr>\n",
       "  </tbody>\n",
       "</table>\n",
       "</div>"
      ],
      "text/plain": [
       "   user_id  event_date  count\n",
       "0    40907  2017-03-31      2\n",
       "1    19101  2017-07-26      2\n",
       "2    18500  2017-03-04      2\n",
       "3    53456  2017-02-04      2\n",
       "4    65674  2017-04-23      2"
      ]
     },
     "execution_count": 31,
     "metadata": {},
     "output_type": "execute_result"
    }
   ],
   "source": [
    "event_sdf.toPandas().head()"
   ]
  },
  {
   "cell_type": "markdown",
   "metadata": {},
   "source": [
    "# Lets plot this\n",
    "Based on the numbers in the cell above it's gonna be a sad graph,\n",
    "But lets do it for kicks and gigles"
   ]
  },
  {
   "cell_type": "code",
   "execution_count": 32,
   "metadata": {},
   "outputs": [],
   "source": [
    "event_sdf_pd = event_sdf.toPandas()"
   ]
  },
  {
   "cell_type": "code",
   "execution_count": 33,
   "metadata": {},
   "outputs": [],
   "source": [
    "#Aright plotting this data makes very little since, but maybe all come back to it so i'm gonna leave these cells here\n",
    "# I was trying to achieve grouped bar chart by date(desc) and then user event(desc) \n",
    "\n",
    "#bar = event_sdf_pd.reset_index().pivot(index='event_date', columns='user_id', values='count').fillna(0)\n",
    "#baz = bar.loc[:, (bar != 0).any(axis=0)]\n",
    "#baz.head(5)\n",
    "#.plot(kind=\"bar\")"
   ]
  },
  {
   "cell_type": "code",
   "execution_count": 34,
   "metadata": {},
   "outputs": [],
   "source": [
    "#baz.head(50).plot(kind=\"bar\")"
   ]
  },
  {
   "cell_type": "markdown",
   "metadata": {},
   "source": [
    "# Gonna do a few more python examples then move on to some actual sql\n",
    "1. Find the top event types\n",
    "2. Find the top preforming stores"
   ]
  },
  {
   "cell_type": "code",
   "execution_count": 35,
   "metadata": {},
   "outputs": [
    {
     "data": {
      "text/html": [
       "<div>\n",
       "<style>\n",
       "    .dataframe thead tr:only-child th {\n",
       "        text-align: right;\n",
       "    }\n",
       "\n",
       "    .dataframe thead th {\n",
       "        text-align: left;\n",
       "    }\n",
       "\n",
       "    .dataframe tbody tr th {\n",
       "        vertical-align: top;\n",
       "    }\n",
       "</style>\n",
       "<table border=\"1\" class=\"dataframe\">\n",
       "  <thead>\n",
       "    <tr style=\"text-align: right;\">\n",
       "      <th></th>\n",
       "      <th>event_type</th>\n",
       "      <th>count</th>\n",
       "    </tr>\n",
       "  </thead>\n",
       "  <tbody>\n",
       "    <tr>\n",
       "      <th>0</th>\n",
       "      <td>promotion - viewed page</td>\n",
       "      <td>20000</td>\n",
       "    </tr>\n",
       "    <tr>\n",
       "      <th>1</th>\n",
       "      <td>store item - viewed item page</td>\n",
       "      <td>20000</td>\n",
       "    </tr>\n",
       "    <tr>\n",
       "      <th>2</th>\n",
       "      <td>user - viewed store item admin page</td>\n",
       "      <td>20000</td>\n",
       "    </tr>\n",
       "    <tr>\n",
       "      <th>3</th>\n",
       "      <td>store - viewed details page</td>\n",
       "      <td>20000</td>\n",
       "    </tr>\n",
       "    <tr>\n",
       "      <th>4</th>\n",
       "      <td>search - search term clicked</td>\n",
       "      <td>20000</td>\n",
       "    </tr>\n",
       "    <tr>\n",
       "      <th>5</th>\n",
       "      <td>user - viewed vendor admin page</td>\n",
       "      <td>20000</td>\n",
       "    </tr>\n",
       "    <tr>\n",
       "      <th>6</th>\n",
       "      <td>promotion - clicked store link</td>\n",
       "      <td>20000</td>\n",
       "    </tr>\n",
       "    <tr>\n",
       "      <th>7</th>\n",
       "      <td>promotion - left page</td>\n",
       "      <td>20000</td>\n",
       "    </tr>\n",
       "    <tr>\n",
       "      <th>8</th>\n",
       "      <td>user - viewed promotion admin page</td>\n",
       "      <td>20000</td>\n",
       "    </tr>\n",
       "    <tr>\n",
       "      <th>9</th>\n",
       "      <td>promotion - clicked store item link</td>\n",
       "      <td>20000</td>\n",
       "    </tr>\n",
       "    <tr>\n",
       "      <th>10</th>\n",
       "      <td>user - viewed store page</td>\n",
       "      <td>20000</td>\n",
       "    </tr>\n",
       "    <tr>\n",
       "      <th>11</th>\n",
       "      <td>store - viewed home page</td>\n",
       "      <td>20000</td>\n",
       "    </tr>\n",
       "  </tbody>\n",
       "</table>\n",
       "</div>"
      ],
      "text/plain": [
       "                             event_type  count\n",
       "0               promotion - viewed page  20000\n",
       "1         store item - viewed item page  20000\n",
       "2   user - viewed store item admin page  20000\n",
       "3           store - viewed details page  20000\n",
       "4          search - search term clicked  20000\n",
       "5       user - viewed vendor admin page  20000\n",
       "6        promotion - clicked store link  20000\n",
       "7                 promotion - left page  20000\n",
       "8    user - viewed promotion admin page  20000\n",
       "9   promotion - clicked store item link  20000\n",
       "10             user - viewed store page  20000\n",
       "11             store - viewed home page  20000"
      ]
     },
     "execution_count": 35,
     "metadata": {},
     "output_type": "execute_result"
    }
   ],
   "source": [
    "events.groupBy(\"event_type\").count().toPandas()"
   ]
  },
  {
   "cell_type": "markdown",
   "metadata": {},
   "source": [
    "Well thats not super exciting ^"
   ]
  },
  {
   "cell_type": "code",
   "execution_count": 46,
   "metadata": {},
   "outputs": [
    {
     "data": {
      "text/plain": [
       "<matplotlib.axes._subplots.AxesSubplot at 0x115fcf2d0>"
      ]
     },
     "execution_count": 46,
     "metadata": {},
     "output_type": "execute_result"
    },
    {
     "data": {
      "image/png": "[encoded data removed]",
      "text/plain": [
       "<matplotlib.figure.Figure at 0x112524f10>"
      ]
     },
     "metadata": {},
     "output_type": "display_data"
    }
   ],
   "source": [
    "# Gonna quickly check what the distro looks like here\n",
    "events.groupBy(\"event_type\").count().toPandas().head(50).plot(kind=\"bar\")"
   ]
  },
  {
   "cell_type": "code",
   "execution_count": 36,
   "metadata": {},
   "outputs": [],
   "source": [
    "no_null_events = events.filter(\"store_id is not null\")"
   ]
  },
  {
   "cell_type": "code",
   "execution_count": 37,
   "metadata": {},
   "outputs": [],
   "source": [
    "counted_store_events = no_null_events.groupBy(\"store_id\").count()"
   ]
  },
  {
   "cell_type": "code",
   "execution_count": 38,
   "metadata": {},
   "outputs": [],
   "source": [
    "joined_store_stuff = counted_store_events.join(stores, counted_store_events.store_id == stores.id)"
   ]
  },
  {
   "cell_type": "code",
   "execution_count": 39,
   "metadata": {},
   "outputs": [
    {
     "name": "stdout",
     "output_type": "stream",
     "text": [
      "+--------+-----+-----+--------------------+-------------------+-----------+\n",
      "|store_id|count|   id|                name|       created_date|store_level|\n",
      "+--------+-----+-----+--------------------+-------------------+-----------+\n",
      "|    5518|    4| 5518|Dolor blanditiis ...|2017-05-22 09:22:20|          3|\n",
      "|   65408|    2|65408|Provident rerum a...|2017-08-08 09:55:41|          1|\n",
      "|   72702|    4|72702|Maiores perferend...|2017-02-19 01:15:41|          5|\n",
      "|   64822|    4|64822|Minus nobis conse...|2017-04-20 12:07:42|          4|\n",
      "|   49717|    2|49717|Ducimus reprehend...|2017-01-13 07:29:36|          4|\n",
      "|   22097|    1|22097|Molestiae possimu...|2017-02-09 20:09:09|          0|\n",
      "|   73933|    2|73933|In aliquid quod s...|2017-08-17 22:09:08|          3|\n",
      "|   63106|    3|63106|Alias neque ea ut...|2017-06-17 14:05:04|          2|\n",
      "|   57693|    3|57693|Nostrum vero eos ...|2017-02-04 15:02:06|          1|\n",
      "|   69042|    8|69042|Fugiat voluptatum...|2017-03-14 01:21:56|          2|\n",
      "|   45341|    2|45341|Ipsam voluptatum ...|2017-07-27 19:18:04|          5|\n",
      "|   40011|    6|40011|Dolorum debitis m...|2017-05-19 09:49:46|          1|\n",
      "|   18911|    4|18911|Corrupti beatae d...|2017-05-02 02:09:08|          4|\n",
      "|    3175|    5| 3175|Facere voluptatem...|2017-06-17 11:22:16|          4|\n",
      "|   63087|    3|63087|Ullam rem officii...|2017-07-04 14:41:24|          1|\n",
      "|   34759|    1|34759|Commodi excepturi...|2017-07-06 06:44:09|          3|\n",
      "|   43302|    4|43302|Cupiditate corpor...|2017-08-21 08:35:41|          0|\n",
      "|   53691|    2|53691|Consequuntur aliq...|2017-02-19 09:11:34|          2|\n",
      "|   56640|    2|56640|Voluptatibus dolo...|2017-01-13 16:36:59|          1|\n",
      "|    7993|    2| 7993|Voluptates conseq...|2017-01-08 15:56:54|          3|\n",
      "+--------+-----+-----+--------------------+-------------------+-----------+\n",
      "only showing top 20 rows\n",
      "\n"
     ]
    }
   ],
   "source": [
    "joined_store_stuff.show()"
   ]
  },
  {
   "cell_type": "code",
   "execution_count": 40,
   "metadata": {},
   "outputs": [
    {
     "name": "stdout",
     "output_type": "stream",
     "text": [
      "+--------+-----+-----+--------------------+-------------------+-----------+\n",
      "|store_id|count|   id|                name|       created_date|store_level|\n",
      "+--------+-----+-----+--------------------+-------------------+-----------+\n",
      "|   64363|   11|64363|Voluptatibus eos ...|2017-05-28 19:24:06|          5|\n",
      "|   57103|    9|57103|Suscipit debitis ...|2017-01-13 19:39:55|          3|\n",
      "|    2851|    9| 2851|Sequi ullam delen...|2017-06-24 04:48:54|          5|\n",
      "|   10667|    9|10667|Voluptates ipsam ...|2017-06-24 02:36:51|          5|\n",
      "|   21306|    9|21306|Fugit ad nisi arc...|2017-06-01 19:00:22|          5|\n",
      "|   14364|    9|14364|Fugit dolore expl...|2017-07-12 06:24:34|          3|\n",
      "|   47198|    9|47198|Dolorum excepturi...|2017-06-29 13:42:44|          5|\n",
      "|   11299|    8|11299|Ullam minima occa...|2017-01-29 16:23:42|          3|\n",
      "|   27354|    8|27354|Alias vero magnam...|2017-01-10 04:08:00|          4|\n",
      "|   58056|    8|58056|Impedit a magni c...|2017-08-30 13:28:40|          3|\n",
      "|   43533|    8|43533|Cum nisi cupidita...|2017-05-17 17:38:29|          3|\n",
      "|   32859|    8|32859|Illo voluptate so...|2017-07-28 09:29:21|          4|\n",
      "|   46836|    8|46836|Suscipit assumend...|2017-07-22 08:37:53|          4|\n",
      "|     240|    8|  240|Mollitia accusamu...|2017-04-21 05:24:39|          4|\n",
      "|   20443|    8|20443|Nulla minima volu...|2017-01-14 12:56:44|          4|\n",
      "|   43487|    8|43487|Repudiandae sequi...|2017-01-28 07:25:33|          5|\n",
      "|   36232|    8|36232|Autem iste sequi ...|2017-06-23 19:12:10|          5|\n",
      "|   70998|    8|70998|Quia expedita fac...|2017-06-27 20:52:21|          4|\n",
      "|   26951|    8|26951|Impedit voluptatu...|2017-07-10 20:50:40|          3|\n",
      "|   45546|    8|45546|Rerum aliquid qui...|2017-04-21 03:37:49|          3|\n",
      "+--------+-----+-----+--------------------+-------------------+-----------+\n",
      "only showing top 20 rows\n",
      "\n"
     ]
    }
   ],
   "source": [
    "# Now lets day we only wanted to see level 3 and greater and get the top ten\n",
    "filtered_store_stuff = joined_store_stuff.filter(\"store_level > 2\").sort( joined_store_stuff['count'].desc() )\n",
    "filtered_store_stuff.show()"
   ]
  },
  {
   "cell_type": "markdown",
   "metadata": {},
   "source": [
    "# Alright, on to some queries.\n",
    "The original challenge was suppose to be some queries against redshift. Because I can't get the connection to redshift to work and don't want to pay for my own aws account i'm just gonna use postgres. I know it's not ideal but atleast it's something.\n",
    "\n",
    "First I'll load of the datasets into postgres. Second I reproduce some of these spark sql queries in psql. Then If i'm not too tired I'll start doing some schema analysis"
   ]
  },
  {
   "cell_type": "code",
   "execution_count": 42,
   "metadata": {},
   "outputs": [],
   "source": [
    "mode = \"overwrite\"\n",
    "url = \"jdbc:postgresql://localhost:5432/postgres\"\n",
    "properties = {\"user\": \"benjarman\",\"password\": \"\",\"driver\": \"org.postgresql.Driver\"}\n",
    "\n",
    "for dat in data_sets:\n",
    "    dat[1].write.jdbc(url=url, table=dat[0], mode=mode, properties=properties)"
   ]
  },
  {
   "cell_type": "markdown",
   "metadata": {},
   "source": [
    "### Here is the query to find the top ten users and their names\n",
    "\n",
    "```sql\n",
    "SELECT e.count, e.user_id, u.name FROM (\n",
    "SELECT count(e.user_id), e.user_id\n",
    "FROM events e\n",
    "GROUP BY e.user_id \n",
    "ORDER BY COUNT DESC LIMIT 10\n",
    ") e\n",
    "JOIN users u ON e.user_id = u.id\n",
    "```\n",
    "\n",
    "^ For what ever reason markdown just stopped working for sql. Not gonna waste time on it though"
   ]
  },
  {
   "cell_type": "markdown",
   "metadata": {},
   "source": [
    "### Here is the query to find the stores with the most events\n",
    "\n",
    "```sql\n",
    "\n",
    "SELECT * FROM (\n",
    "SELECT count(e.store_id), e.store_id\n",
    "FROM events e\n",
    "WHERE e.store_id IS NOT NULL\n",
    "GROUP BY e.store_id\n",
    ") e\n",
    "JOIN stores s ON e.store_id = s.id\n",
    "ORDER BY COUNT DESC\n",
    "\n",
    "```"
   ]
  },
  {
   "cell_type": "markdown",
   "metadata": {},
   "source": [
    "# Next steps\n",
    "So I could write simple stupid queries all day, but I'm honestly losing steam. Lets model up the existing schema and see what we could do to improve it."
   ]
  },
  {
   "cell_type": "code",
   "execution_count": 44,
   "metadata": {},
   "outputs": [
    {
     "data": {
      "image/jpeg": "[encoded data removed]",
      "text/plain": [
       "<IPython.core.display.Image object>"
      ]
     },
     "execution_count": 44,
     "metadata": {},
     "output_type": "execute_result"
    }
   ],
   "source": [
    "from IPython.display import Image\n",
    "Image(filename='/Users/benjarman/Development/SparkIpython/data/original_schema.jpg')"
   ]
  },
  {
   "cell_type": "markdown",
   "metadata": {},
   "source": [
    "Above is the current schema. Right away it's pretty clear this needs some clean up. First of all the whole circular relationships between store_items, stores and promotions is a clear problem. The Other big problem I see is how users ends up being it's own little leg. \n",
    "\n",
    "My original solution during the interview was to have events at the center of our star schema. Now that I can see the whole picture it makes allot more since to have stores be the center.\n",
    "\n",
    "I'm not going to model the whole thing out because it's late and I'm losing steam, but I'll briefly describe my fixes to this.\n",
    "\n",
    "1. I would denormalize promotions such that it had no relationship to store_items\n",
    "2. I would denormalize users such that it went directly to stores instead of events\n",
    "3. I would create some aditional tables for the lookups that were happening between users and events.\n",
    "4. The events table needs to be broken up into multiple tables. It contains events only related to stores and events only related to users. Seems like a bad design.\n",
    "\n",
    "My final thought is it's really hard to design a schema like this without knowing the data access paths. Maybe given some use cases making users the center of the schema makes since."
   ]
  },
  {
   "cell_type": "code",
   "execution_count": null,
   "metadata": {},
   "outputs": [],
   "source": []
  }
 ],
 "metadata": {
  "kernelspec": {
   "display_name": "Python 2",
   "language": "python",
   "name": "python2"
  },
  "language_info": {
   "codemirror_mode": {
    "name": "ipython",
    "version": 2
   },
   "file_extension": ".py",
   "mimetype": "text/x-python",
   "name": "python",
   "nbconvert_exporter": "python",
   "pygments_lexer": "ipython2",
   "version": "2.7.13"
  }
 },
 "nbformat": 4,
 "nbformat_minor": 2
}
